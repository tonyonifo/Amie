{
  "nbformat": 4,
  "nbformat_minor": 0,
  "metadata": {
    "colab": {
      "name": "Amie-ml.ipynb",
      "provenance": [],
      "authorship_tag": "ABX9TyOG6pboD1SwsBJhOaNBJS8J",
      "include_colab_link": true
    },
    "kernelspec": {
      "name": "python3",
      "display_name": "Python 3"
    },
    "language_info": {
      "name": "python"
    }
  },
  "cells": [
    {
      "cell_type": "markdown",
      "metadata": {
        "id": "view-in-github",
        "colab_type": "text"
      },
      "source": [
        "<a href=\"https://colab.research.google.com/github/tonyonifo/Amie/blob/main/Amie_ml.ipynb\" target=\"_parent\"><img src=\"https://colab.research.google.com/assets/colab-badge.svg\" alt=\"Open In Colab\"/></a>"
      ]
    },
    {
      "cell_type": "markdown",
      "metadata": {
        "id": "Oa8AXQ9qaDeg"
      },
      "source": [
        "# **Speech to text**\n",
        "##  + pytorch"
      ]
    },
    {
      "cell_type": "code",
      "metadata": {
        "colab": {
          "base_uri": "https://localhost:8080/"
        },
        "id": "egqAl8PrZp9E",
        "outputId": "a8612f56-6f58-4d60-bc32-7931dc490fdb"
      },
      "source": [
        "%%bash\n",
        "# this assumes that you have a proper version of PyTorch already installed\n",
        "pip install -q torchaudio omegaconf soundfile"
      ],
      "execution_count": null,
      "outputs": [
        {
          "output_type": "stream",
          "name": "stderr",
          "text": [
            "ERROR: pip's dependency resolver does not currently take into account all the packages that are installed. This behaviour is the source of the following dependency conflicts.\n",
            "torchvision 0.10.0+cu102 requires torch==1.9.0, but you have torch 1.9.1 which is incompatible.\n",
            "torchtext 0.10.0 requires torch==1.9.0, but you have torch 1.9.1 which is incompatible.\n"
          ]
        }
      ]
    },
    {
      "cell_type": "code",
      "metadata": {
        "id": "z6oh3vbdf9aC"
      },
      "source": [
        "class TorchDl:\n",
        "  def __init__(self, url='https://opus-codec.org/static/examples/samples/speech_orig.wav', dest='speech_orig.wav'):\n",
        "\n",
        "# download a single file, any format compatible with TorchAudio (soundfile backend)\n",
        "    torch.hub.download_url_to_file(url,\n",
        "                               dst =dest, progress=True)\n",
        "    self.get_files = glob(dest)\n",
        "\n",
        "    def get_paths(self):\n",
        "      return self.get_files\n",
        "\n",
        "\n",
        "    def __repr__(self):\n",
        "      return self.get_paths()"
      ],
      "execution_count": 11,
      "outputs": []
    },
    {
      "cell_type": "code",
      "metadata": {
        "id": "8mXBWA3Zbnc0"
      },
      "source": [
        "import torch\n",
        "import zipfile\n",
        "import torchaudio\n",
        "from glob import glob"
      ],
      "execution_count": null,
      "outputs": []
    },
    {
      "cell_type": "code",
      "metadata": {
        "id": "wEBJ2gPkaeCb"
      },
      "source": [
        "class STT:\n",
        "    def __init__(self):\n",
        "        self.stt_model, \\\n",
        "        self.decoder, \\\n",
        "        self.utils = \\\n",
        "            torch.hub.load(repo_or_dir='snakers4/silero-models',\n",
        "                                       model='silero_stt',\n",
        "                                       language='en', # also available 'de', 'es'\n",
        "                                       device=device)\n",
        "        (\n",
        "         self.read_batch, \n",
        "         self.split_into_batches,\n",
        "         self.read_audio, \n",
        "         self.prepare_model_input\n",
        "        ) = utils\n",
        "\n",
        "    def _repr_(self):\n",
        "        return pprint(self.stt_model)"
      ],
      "execution_count": null,
      "outputs": []
    }
  ]
}